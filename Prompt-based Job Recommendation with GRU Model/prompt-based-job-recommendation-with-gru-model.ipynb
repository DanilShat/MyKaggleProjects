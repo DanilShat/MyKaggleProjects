{
 "cells": [
  {
   "cell_type": "code",
   "execution_count": 1,
   "id": "eaa9331d",
   "metadata": {
    "_cell_guid": "b1076dfc-b9ad-4769-8c92-a6c4dae69d19",
    "_uuid": "8f2839f25d086af736a60e9eeb907d3b93b6e0e5",
    "execution": {
     "iopub.execute_input": "2023-11-09T11:24:18.136001Z",
     "iopub.status.busy": "2023-11-09T11:24:18.135363Z",
     "iopub.status.idle": "2023-11-09T11:24:18.480211Z",
     "shell.execute_reply": "2023-11-09T11:24:18.479200Z"
    },
    "papermill": {
     "duration": 0.355844,
     "end_time": "2023-11-09T11:24:18.484447",
     "exception": false,
     "start_time": "2023-11-09T11:24:18.128603",
     "status": "completed"
    },
    "tags": []
   },
   "outputs": [
    {
     "name": "stdout",
     "output_type": "stream",
     "text": [
      "/kaggle/input/wuzzuf-data-analyst-jobs/Wuzzuf-Jobs.csv\n"
     ]
    }
   ],
   "source": [
    "# This Python 3 environment comes with many helpful analytics libraries installed\n",
    "# It is defined by the kaggle/python Docker image: https://github.com/kaggle/docker-python\n",
    "# For example, here's several helpful packages to load\n",
    "\n",
    "import numpy as np # linear algebra\n",
    "import pandas as pd # data processing, CSV file I/O (e.g. pd.read_csv)\n",
    "\n",
    "# Input data files are available in the read-only \"../input/\" directory\n",
    "# For example, running this (by clicking run or pressing Shift+Enter) will list all files under the input directory\n",
    "\n",
    "import os\n",
    "for dirname, _, filenames in os.walk('/kaggle/input'):\n",
    "    for filename in filenames:\n",
    "        print(os.path.join(dirname, filename))\n",
    "\n",
    "# You can write up to 20GB to the current directory (/kaggle/working/) that gets preserved as output when you create a version using \"Save & Run All\" \n",
    "# You can also write temporary files to /kaggle/temp/, but they won't be saved outside of the current session"
   ]
  },
  {
   "cell_type": "markdown",
   "id": "15fb8b93",
   "metadata": {
    "papermill": {
     "duration": 0.003799,
     "end_time": "2023-11-09T11:24:18.493338",
     "exception": false,
     "start_time": "2023-11-09T11:24:18.489539",
     "status": "completed"
    },
    "tags": []
   },
   "source": [
    "# Prompt-based Job Recommendation with GRU Model\n",
    "\n",
    "This code represents the implementation of a Gated Recurrent Unit (GRU) model that is trained on descriptions of various jobs. After training, the model is capable of classifying and suggesting several suitable job options based on a user-input prompt.\n",
    "\n",
    "## Key Features\n",
    "1. **Training on Job Descriptions**: The model is trained on a large dataset containing descriptions of various types of jobs. This allows the model to capture key features and nuances of different job roles.\n",
    "2. **Job Recommendation**: Based on a user-input prompt, the model can suggest several suitable job options. This makes it a useful tool for job seekers and career guidance.\n"
   ]
  },
  {
   "cell_type": "code",
   "execution_count": 2,
   "id": "b3e7b8f7",
   "metadata": {
    "execution": {
     "iopub.execute_input": "2023-11-09T11:24:18.504327Z",
     "iopub.status.busy": "2023-11-09T11:24:18.503589Z",
     "iopub.status.idle": "2023-11-09T11:24:18.532764Z",
     "shell.execute_reply": "2023-11-09T11:24:18.531258Z"
    },
    "papermill": {
     "duration": 0.038618,
     "end_time": "2023-11-09T11:24:18.535929",
     "exception": false,
     "start_time": "2023-11-09T11:24:18.497311",
     "status": "completed"
    },
    "tags": []
   },
   "outputs": [],
   "source": [
    "df = pd.read_csv('/kaggle/input/wuzzuf-data-analyst-jobs/Wuzzuf-Jobs.csv')"
   ]
  },
  {
   "cell_type": "code",
   "execution_count": 3,
   "id": "c5553fb0",
   "metadata": {
    "execution": {
     "iopub.execute_input": "2023-11-09T11:24:18.547018Z",
     "iopub.status.busy": "2023-11-09T11:24:18.546659Z",
     "iopub.status.idle": "2023-11-09T11:24:18.573572Z",
     "shell.execute_reply": "2023-11-09T11:24:18.572318Z"
    },
    "papermill": {
     "duration": 0.035659,
     "end_time": "2023-11-09T11:24:18.576018",
     "exception": false,
     "start_time": "2023-11-09T11:24:18.540359",
     "status": "completed"
    },
    "tags": []
   },
   "outputs": [
    {
     "data": {
      "text/html": [
       "<div>\n",
       "<style scoped>\n",
       "    .dataframe tbody tr th:only-of-type {\n",
       "        vertical-align: middle;\n",
       "    }\n",
       "\n",
       "    .dataframe tbody tr th {\n",
       "        vertical-align: top;\n",
       "    }\n",
       "\n",
       "    .dataframe thead th {\n",
       "        text-align: right;\n",
       "    }\n",
       "</style>\n",
       "<table border=\"1\" class=\"dataframe\">\n",
       "  <thead>\n",
       "    <tr style=\"text-align: right;\">\n",
       "      <th></th>\n",
       "      <th>Unnamed: 0</th>\n",
       "      <th>Job title</th>\n",
       "      <th>Company name</th>\n",
       "      <th>Location</th>\n",
       "      <th>Job type</th>\n",
       "      <th>Exp level</th>\n",
       "      <th>Exp years</th>\n",
       "      <th>Skills</th>\n",
       "    </tr>\n",
       "  </thead>\n",
       "  <tbody>\n",
       "    <tr>\n",
       "      <th>0</th>\n",
       "      <td>0</td>\n",
       "      <td>Financial Analysis</td>\n",
       "      <td>Care Services EG -</td>\n",
       "      <td>Abbassia, Cairo, Egypt</td>\n",
       "      <td>Full Time</td>\n",
       "      <td>Experienced</td>\n",
       "      <td>2 - 4 Yrs of Exp</td>\n",
       "      <td>Accounting/Finance,Analyst/Research,Accounting...</td>\n",
       "    </tr>\n",
       "    <tr>\n",
       "      <th>1</th>\n",
       "      <td>1</td>\n",
       "      <td>Vulnerability Analysis &amp; Mapping Officer (Econ...</td>\n",
       "      <td>World Food Program - Other locations -</td>\n",
       "      <td>Cairo, Egypt</td>\n",
       "      <td>Full Time</td>\n",
       "      <td>Not specified</td>\n",
       "      <td>IT/Software Development</td>\n",
       "      <td>Project/Program Management,Engineering - Telec...</td>\n",
       "    </tr>\n",
       "    <tr>\n",
       "      <th>2</th>\n",
       "      <td>2</td>\n",
       "      <td>Financial Analysis &amp; Planning Manager</td>\n",
       "      <td>Kinetik People -</td>\n",
       "      <td>Cairo, Egypt</td>\n",
       "      <td>Full Time</td>\n",
       "      <td>Not specified</td>\n",
       "      <td>Accounting/Finance</td>\n",
       "      <td>Operations/Management,Analyst/Research,Financi...</td>\n",
       "    </tr>\n",
       "    <tr>\n",
       "      <th>3</th>\n",
       "      <td>3</td>\n",
       "      <td>Financial Planning &amp; Analysis Lead</td>\n",
       "      <td>Novartis ÖSterreich -</td>\n",
       "      <td>Cairo, Egypt</td>\n",
       "      <td>Full Time</td>\n",
       "      <td>Not specified</td>\n",
       "      <td>Accounting/Finance</td>\n",
       "      <td>Operations/Management,Analyst/Research,Finance...</td>\n",
       "    </tr>\n",
       "    <tr>\n",
       "      <th>4</th>\n",
       "      <td>4</td>\n",
       "      <td>Analysis and Reporting Manager</td>\n",
       "      <td>Antal International - Egypt -</td>\n",
       "      <td>Cairo, Egypt</td>\n",
       "      <td>Full Time</td>\n",
       "      <td>Not specified</td>\n",
       "      <td>Accounting/Finance</td>\n",
       "      <td>Operations/Management,Analyst/Research,Finance...</td>\n",
       "    </tr>\n",
       "  </tbody>\n",
       "</table>\n",
       "</div>"
      ],
      "text/plain": [
       "   Unnamed: 0                                          Job title  \\\n",
       "0           0                                 Financial Analysis   \n",
       "1           1  Vulnerability Analysis & Mapping Officer (Econ...   \n",
       "2           2              Financial Analysis & Planning Manager   \n",
       "3           3                 Financial Planning & Analysis Lead   \n",
       "4           4                     Analysis and Reporting Manager   \n",
       "\n",
       "                             Company name                 Location   Job type  \\\n",
       "0                      Care Services EG -  Abbassia, Cairo, Egypt   Full Time   \n",
       "1  World Food Program - Other locations -            Cairo, Egypt   Full Time   \n",
       "2                        Kinetik People -            Cairo, Egypt   Full Time   \n",
       "3                   Novartis ÖSterreich -            Cairo, Egypt   Full Time   \n",
       "4           Antal International - Egypt -            Cairo, Egypt   Full Time   \n",
       "\n",
       "       Exp level                Exp years  \\\n",
       "0    Experienced         2 - 4 Yrs of Exp   \n",
       "1  Not specified  IT/Software Development   \n",
       "2  Not specified       Accounting/Finance   \n",
       "3  Not specified       Accounting/Finance   \n",
       "4  Not specified       Accounting/Finance   \n",
       "\n",
       "                                              Skills  \n",
       "0  Accounting/Finance,Analyst/Research,Accounting...  \n",
       "1  Project/Program Management,Engineering - Telec...  \n",
       "2  Operations/Management,Analyst/Research,Financi...  \n",
       "3  Operations/Management,Analyst/Research,Finance...  \n",
       "4  Operations/Management,Analyst/Research,Finance...  "
      ]
     },
     "execution_count": 3,
     "metadata": {},
     "output_type": "execute_result"
    }
   ],
   "source": [
    "df.head(5)"
   ]
  },
  {
   "cell_type": "code",
   "execution_count": 4,
   "id": "54fc4ef0",
   "metadata": {
    "execution": {
     "iopub.execute_input": "2023-11-09T11:24:18.587421Z",
     "iopub.status.busy": "2023-11-09T11:24:18.587020Z",
     "iopub.status.idle": "2023-11-09T11:24:18.618430Z",
     "shell.execute_reply": "2023-11-09T11:24:18.617533Z"
    },
    "papermill": {
     "duration": 0.039311,
     "end_time": "2023-11-09T11:24:18.620334",
     "exception": false,
     "start_time": "2023-11-09T11:24:18.581023",
     "status": "completed"
    },
    "tags": []
   },
   "outputs": [
    {
     "name": "stdout",
     "output_type": "stream",
     "text": [
      "<class 'pandas.core.frame.DataFrame'>\n",
      "RangeIndex: 1617 entries, 0 to 1616\n",
      "Data columns (total 8 columns):\n",
      " #   Column        Non-Null Count  Dtype \n",
      "---  ------        --------------  ----- \n",
      " 0   Unnamed: 0    1617 non-null   int64 \n",
      " 1   Job title     1617 non-null   object\n",
      " 2   Company name  1617 non-null   object\n",
      " 3   Location      1617 non-null   object\n",
      " 4   Job type      1617 non-null   object\n",
      " 5   Exp level     1617 non-null   object\n",
      " 6   Exp years     1617 non-null   object\n",
      " 7   Skills        1617 non-null   object\n",
      "dtypes: int64(1), object(7)\n",
      "memory usage: 101.2+ KB\n"
     ]
    }
   ],
   "source": [
    "df.info()"
   ]
  },
  {
   "cell_type": "code",
   "execution_count": 5,
   "id": "b029f004",
   "metadata": {
    "execution": {
     "iopub.execute_input": "2023-11-09T11:24:18.631718Z",
     "iopub.status.busy": "2023-11-09T11:24:18.630516Z",
     "iopub.status.idle": "2023-11-09T11:24:18.639333Z",
     "shell.execute_reply": "2023-11-09T11:24:18.638174Z"
    },
    "papermill": {
     "duration": 0.016189,
     "end_time": "2023-11-09T11:24:18.641057",
     "exception": false,
     "start_time": "2023-11-09T11:24:18.624868",
     "status": "completed"
    },
    "tags": []
   },
   "outputs": [
    {
     "data": {
      "text/plain": [
       "0"
      ]
     },
     "execution_count": 5,
     "metadata": {},
     "output_type": "execute_result"
    }
   ],
   "source": [
    "df['Job title'].isna().sum()"
   ]
  },
  {
   "cell_type": "code",
   "execution_count": 6,
   "id": "db8717ee",
   "metadata": {
    "execution": {
     "iopub.execute_input": "2023-11-09T11:24:18.652869Z",
     "iopub.status.busy": "2023-11-09T11:24:18.652458Z",
     "iopub.status.idle": "2023-11-09T11:24:18.659488Z",
     "shell.execute_reply": "2023-11-09T11:24:18.658585Z"
    },
    "papermill": {
     "duration": 0.015162,
     "end_time": "2023-11-09T11:24:18.661429",
     "exception": false,
     "start_time": "2023-11-09T11:24:18.646267",
     "status": "completed"
    },
    "tags": []
   },
   "outputs": [
    {
     "data": {
      "text/plain": [
       "0"
      ]
     },
     "execution_count": 6,
     "metadata": {},
     "output_type": "execute_result"
    }
   ],
   "source": [
    "df['Skills'].isna().sum()"
   ]
  },
  {
   "cell_type": "code",
   "execution_count": 7,
   "id": "ed50946a",
   "metadata": {
    "execution": {
     "iopub.execute_input": "2023-11-09T11:24:18.673365Z",
     "iopub.status.busy": "2023-11-09T11:24:18.672666Z",
     "iopub.status.idle": "2023-11-09T11:24:18.682010Z",
     "shell.execute_reply": "2023-11-09T11:24:18.680593Z"
    },
    "papermill": {
     "duration": 0.01832,
     "end_time": "2023-11-09T11:24:18.684755",
     "exception": false,
     "start_time": "2023-11-09T11:24:18.666435",
     "status": "completed"
    },
    "tags": []
   },
   "outputs": [],
   "source": [
    "df = df[['Job title', 'Skills']]"
   ]
  },
  {
   "cell_type": "code",
   "execution_count": 8,
   "id": "aaee22bc",
   "metadata": {
    "execution": {
     "iopub.execute_input": "2023-11-09T11:24:18.697893Z",
     "iopub.status.busy": "2023-11-09T11:24:18.697394Z",
     "iopub.status.idle": "2023-11-09T11:24:18.703380Z",
     "shell.execute_reply": "2023-11-09T11:24:18.702240Z"
    },
    "papermill": {
     "duration": 0.015024,
     "end_time": "2023-11-09T11:24:18.705398",
     "exception": false,
     "start_time": "2023-11-09T11:24:18.690374",
     "status": "completed"
    },
    "tags": []
   },
   "outputs": [
    {
     "data": {
      "text/plain": [
       "1185"
      ]
     },
     "execution_count": 8,
     "metadata": {},
     "output_type": "execute_result"
    }
   ],
   "source": [
    "df['Job title'].nunique()"
   ]
  },
  {
   "cell_type": "markdown",
   "id": "62c99ac4",
   "metadata": {
    "papermill": {
     "duration": 0.00496,
     "end_time": "2023-11-09T11:24:18.715509",
     "exception": false,
     "start_time": "2023-11-09T11:24:18.710549",
     "status": "completed"
    },
    "tags": []
   },
   "source": [
    "# Preprocessing"
   ]
  },
  {
   "cell_type": "code",
   "execution_count": 9,
   "id": "4cc981b9",
   "metadata": {
    "execution": {
     "iopub.execute_input": "2023-11-09T11:24:18.728731Z",
     "iopub.status.busy": "2023-11-09T11:24:18.728168Z",
     "iopub.status.idle": "2023-11-09T11:24:29.363015Z",
     "shell.execute_reply": "2023-11-09T11:24:29.361719Z"
    },
    "papermill": {
     "duration": 10.644846,
     "end_time": "2023-11-09T11:24:29.365539",
     "exception": false,
     "start_time": "2023-11-09T11:24:18.720693",
     "status": "completed"
    },
    "tags": []
   },
   "outputs": [
    {
     "name": "stdout",
     "output_type": "stream",
     "text": [
      "[nltk_data] Downloading package stopwords to /usr/share/nltk_data...\n",
      "[nltk_data]   Package stopwords is already up-to-date!\n"
     ]
    }
   ],
   "source": [
    "import nltk\n",
    "from nltk.corpus import stopwords\n",
    "from nltk.stem import PorterStemmer\n",
    "import re\n",
    "nltk.download('stopwords')\n",
    "import gensim\n",
    "\n",
    "stop_words = stopwords.words('english')\n",
    "def preprocess(text, join_back=True):\n",
    "    result = []\n",
    "    for token in gensim.utils.simple_preprocess(text):\n",
    "        # Stop Words Cleaning\n",
    "        if (\n",
    "            token not in gensim.parsing.preprocessing.STOPWORDS and\n",
    "            # len(token) > 2 and\n",
    "            token not in stop_words\n",
    "        ):\n",
    "            result.append(token)\n",
    "    if join_back:\n",
    "        result = \" \".join(result)\n",
    "    return result"
   ]
  },
  {
   "cell_type": "code",
   "execution_count": 10,
   "id": "5361bf9d",
   "metadata": {
    "execution": {
     "iopub.execute_input": "2023-11-09T11:24:29.379195Z",
     "iopub.status.busy": "2023-11-09T11:24:29.377821Z",
     "iopub.status.idle": "2023-11-09T11:24:29.463983Z",
     "shell.execute_reply": "2023-11-09T11:24:29.462463Z"
    },
    "papermill": {
     "duration": 0.096034,
     "end_time": "2023-11-09T11:24:29.466790",
     "exception": false,
     "start_time": "2023-11-09T11:24:29.370756",
     "status": "completed"
    },
    "tags": []
   },
   "outputs": [],
   "source": [
    "df['Skills'] = df['Skills'].apply(preprocess)"
   ]
  },
  {
   "cell_type": "markdown",
   "id": "0b5376b6",
   "metadata": {
    "papermill": {
     "duration": 0.004404,
     "end_time": "2023-11-09T11:24:29.476244",
     "exception": false,
     "start_time": "2023-11-09T11:24:29.471840",
     "status": "completed"
    },
    "tags": []
   },
   "source": [
    "# Model creation and training"
   ]
  },
  {
   "cell_type": "code",
   "execution_count": 11,
   "id": "d816f9f9",
   "metadata": {
    "execution": {
     "iopub.execute_input": "2023-11-09T11:24:29.486983Z",
     "iopub.status.busy": "2023-11-09T11:24:29.486645Z",
     "iopub.status.idle": "2023-11-09T11:25:11.800523Z",
     "shell.execute_reply": "2023-11-09T11:25:11.799240Z"
    },
    "papermill": {
     "duration": 42.322622,
     "end_time": "2023-11-09T11:25:11.803391",
     "exception": false,
     "start_time": "2023-11-09T11:24:29.480769",
     "status": "completed"
    },
    "tags": []
   },
   "outputs": [
    {
     "name": "stdout",
     "output_type": "stream",
     "text": [
      "Epoch 1/5\n",
      "102/102 [==============================] - 9s 63ms/step - loss: 6.9945\n",
      "Epoch 2/5\n",
      "102/102 [==============================] - 6s 60ms/step - loss: 6.6339\n",
      "Epoch 3/5\n",
      "102/102 [==============================] - 6s 62ms/step - loss: 6.3978\n",
      "Epoch 4/5\n",
      "102/102 [==============================] - 6s 59ms/step - loss: 6.1305\n",
      "Epoch 5/5\n",
      "102/102 [==============================] - 6s 59ms/step - loss: 5.7137\n"
     ]
    },
    {
     "data": {
      "text/plain": [
       "<keras.callbacks.History at 0x7b8d2265d480>"
      ]
     },
     "execution_count": 11,
     "metadata": {},
     "output_type": "execute_result"
    }
   ],
   "source": [
    "import pandas as pd\n",
    "from sklearn.model_selection import train_test_split\n",
    "from keras.preprocessing.text import Tokenizer\n",
    "from keras.utils.data_utils import pad_sequences\n",
    "from keras.models import Sequential\n",
    "from keras.layers import Embedding, GRU, Dense\n",
    "from sklearn.preprocessing import LabelEncoder\n",
    "\n",
    "le = LabelEncoder()\n",
    "df['job_id'] = le.fit_transform(df['Job title'])\n",
    "\n",
    "tokenizer = Tokenizer(num_words=5000)\n",
    "tokenizer.fit_on_texts(df['Skills'])\n",
    "\n",
    "X_train = tokenizer.texts_to_sequences(df['Skills'])\n",
    "\n",
    "X_train = pad_sequences(X_train, maxlen=50)\n",
    "\n",
    "from keras.utils import to_categorical\n",
    "\n",
    "Y_train = to_categorical(df['job_id'], num_classes=df['job_id'].nunique())\n",
    "\n",
    "model = Sequential()\n",
    "model.add(Embedding(5000, 64, input_length=50))\n",
    "model.add(GRU(256))\n",
    "model.add(Dense(df['job_id'].nunique(), activation='softmax'))\n",
    "model.compile(loss='categorical_crossentropy', optimizer='adam') \n",
    "model.fit(X_train, Y_train, epochs=5, batch_size=16) \n"
   ]
  },
  {
   "cell_type": "code",
   "execution_count": 12,
   "id": "0f68260d",
   "metadata": {
    "execution": {
     "iopub.execute_input": "2023-11-09T11:25:11.873712Z",
     "iopub.status.busy": "2023-11-09T11:25:11.872478Z",
     "iopub.status.idle": "2023-11-09T11:25:11.878481Z",
     "shell.execute_reply": "2023-11-09T11:25:11.877637Z"
    },
    "papermill": {
     "duration": 0.042652,
     "end_time": "2023-11-09T11:25:11.880342",
     "exception": false,
     "start_time": "2023-11-09T11:25:11.837690",
     "status": "completed"
    },
    "tags": []
   },
   "outputs": [],
   "source": [
    "def predict_top3(prompt, model, df):\n",
    "    prompt = preprocess(prompt)\n",
    "    \n",
    "    prompt_sequence = tokenizer.texts_to_sequences([prompt])\n",
    "\n",
    "    prompt_sequence = pad_sequences(prompt_sequence, maxlen=50)\n",
    "    predictions = model.predict(prompt_sequence)\n",
    "\n",
    "    top3_job_ids = np.argsort(predictions[0])[-3:]\n",
    "\n",
    "    top3_job_titles = df[df['job_id'].isin(top3_job_ids)]['Job title'].drop_duplicates().tolist()\n",
    "\n",
    "    return top3_job_titles\n"
   ]
  },
  {
   "cell_type": "markdown",
   "id": "774c6f5a",
   "metadata": {
    "papermill": {
     "duration": 0.033584,
     "end_time": "2023-11-09T11:25:11.948305",
     "exception": false,
     "start_time": "2023-11-09T11:25:11.914721",
     "status": "completed"
    },
    "tags": []
   },
   "source": [
    "# Prompt Exmples\n",
    "\n",
    "Here you can try different prompts and model results"
   ]
  },
  {
   "cell_type": "code",
   "execution_count": 13,
   "id": "11af0a0b",
   "metadata": {
    "execution": {
     "iopub.execute_input": "2023-11-09T11:25:12.019120Z",
     "iopub.status.busy": "2023-11-09T11:25:12.017972Z",
     "iopub.status.idle": "2023-11-09T11:25:12.420646Z",
     "shell.execute_reply": "2023-11-09T11:25:12.419493Z"
    },
    "papermill": {
     "duration": 0.440604,
     "end_time": "2023-11-09T11:25:12.423003",
     "exception": false,
     "start_time": "2023-11-09T11:25:11.982399",
     "status": "completed"
    },
    "tags": []
   },
   "outputs": [
    {
     "name": "stdout",
     "output_type": "stream",
     "text": [
      "1/1 [==============================] - 0s 350ms/step\n",
      "['Chief Accountant', 'Accountant', 'Senior Accountant']\n"
     ]
    }
   ],
   "source": [
    "prompt = 'I am good at mathematics and finance, I like to make reports and control processes'\n",
    "\n",
    "print(predict_top3(prompt, model, df))"
   ]
  },
  {
   "cell_type": "code",
   "execution_count": 14,
   "id": "93b5f7cf",
   "metadata": {
    "execution": {
     "iopub.execute_input": "2023-11-09T11:25:12.551064Z",
     "iopub.status.busy": "2023-11-09T11:25:12.550683Z",
     "iopub.status.idle": "2023-11-09T11:25:12.618980Z",
     "shell.execute_reply": "2023-11-09T11:25:12.617635Z"
    },
    "papermill": {
     "duration": 0.162739,
     "end_time": "2023-11-09T11:25:12.621032",
     "exception": false,
     "start_time": "2023-11-09T11:25:12.458293",
     "status": "completed"
    },
    "tags": []
   },
   "outputs": [
    {
     "name": "stdout",
     "output_type": "stream",
     "text": [
      "1/1 [==============================] - 0s 22ms/step\n",
      "['Marketing Executive', 'Planning Engineer', 'Sales Marketing Executive']\n"
     ]
    }
   ],
   "source": [
    "prompt = 'I am good at managing people, communicating, understanding others'\n",
    "\n",
    "print(predict_top3(prompt, model, df))"
   ]
  }
 ],
 "metadata": {
  "kernelspec": {
   "display_name": "Python 3",
   "language": "python",
   "name": "python3"
  },
  "language_info": {
   "codemirror_mode": {
    "name": "ipython",
    "version": 3
   },
   "file_extension": ".py",
   "mimetype": "text/x-python",
   "name": "python",
   "nbconvert_exporter": "python",
   "pygments_lexer": "ipython3",
   "version": "3.10.12"
  },
  "papermill": {
   "default_parameters": {},
   "duration": 60.267085,
   "end_time": "2023-11-09T11:25:15.459300",
   "environment_variables": {},
   "exception": null,
   "input_path": "__notebook__.ipynb",
   "output_path": "__notebook__.ipynb",
   "parameters": {},
   "start_time": "2023-11-09T11:24:15.192215",
   "version": "2.4.0"
  }
 },
 "nbformat": 4,
 "nbformat_minor": 5
}
